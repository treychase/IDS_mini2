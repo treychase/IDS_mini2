{
 "cells": [
  {
   "cell_type": "markdown",
   "id": "744d5a39",
   "metadata": {},
   "source": [
    "### Step 0: Load Data and Libraries"
   ]
  },
  {
   "cell_type": "code",
   "execution_count": null,
   "id": "6b41069e",
   "metadata": {},
   "outputs": [
    {
     "name": "stdout",
     "output_type": "stream",
     "text": [
      "Requirement already satisfied: pandas in ./.venv/lib/python3.13/site-packages (2.3.2)\n",
      "Requirement already satisfied: matplotlib in ./.venv/lib/python3.13/site-packages (3.10.6)\n",
      "Requirement already satisfied: numpy>=1.26.0 in ./.venv/lib/python3.13/site-packages (from pandas) (2.3.2)\n",
      "Requirement already satisfied: python-dateutil>=2.8.2 in ./.venv/lib/python3.13/site-packages (from pandas) (2.9.0.post0)\n",
      "Requirement already satisfied: pytz>=2020.1 in ./.venv/lib/python3.13/site-packages (from pandas) (2025.2)\n",
      "Requirement already satisfied: tzdata>=2022.7 in ./.venv/lib/python3.13/site-packages (from pandas) (2025.2)\n",
      "Requirement already satisfied: contourpy>=1.0.1 in ./.venv/lib/python3.13/site-packages (from matplotlib) (1.3.3)\n",
      "Requirement already satisfied: cycler>=0.10 in ./.venv/lib/python3.13/site-packages (from matplotlib) (0.12.1)\n",
      "Requirement already satisfied: fonttools>=4.22.0 in ./.venv/lib/python3.13/site-packages (from matplotlib) (4.59.2)\n",
      "Requirement already satisfied: kiwisolver>=1.3.1 in ./.venv/lib/python3.13/site-packages (from matplotlib) (1.4.9)\n",
      "Requirement already satisfied: packaging>=20.0 in ./.venv/lib/python3.13/site-packages (from matplotlib) (25.0)\n",
      "Requirement already satisfied: pillow>=8 in ./.venv/lib/python3.13/site-packages (from matplotlib) (11.3.0)\n",
      "Requirement already satisfied: pyparsing>=2.3.1 in ./.venv/lib/python3.13/site-packages (from matplotlib) (3.2.3)\n",
      "Requirement already satisfied: six>=1.5 in ./.venv/lib/python3.13/site-packages (from python-dateutil>=2.8.2->pandas) (1.17.0)\n"
     ]
    }
   ],
   "source": [
    "# Install required libraries if not already installed\n",
    "#!pip install pandas matplotlib"
   ]
  },
  {
   "cell_type": "code",
   "execution_count": null,
   "id": "82a5c4e3",
   "metadata": {},
   "outputs": [],
   "source": [
    "import pandas as pd\n",
    "import matplotlib.pyplot as plt\n",
    "\n",
    "\n",
    "data = pd.read_csv('hp_obp.csv')"
   ]
  },
  {
   "cell_type": "markdown",
   "id": "f2bf725f",
   "metadata": {},
   "source": [
    "### Step 1: Exploratory Data Analysis (EDA)"
   ]
  },
  {
   "cell_type": "code",
   "execution_count": 40,
   "id": "230398ae",
   "metadata": {},
   "outputs": [
    {
     "data": {
      "text/markdown": [
       "#### First 5 Rows of Data"
      ],
      "text/plain": [
       "<IPython.core.display.Markdown object>"
      ]
     },
     "metadata": {},
     "output_type": "display_data"
    },
    {
     "data": {
      "application/vnd.microsoft.datawrangler.viewer.v0+json": {
       "columns": [
        {
         "name": "index",
         "rawType": "int64",
         "type": "integer"
        },
        {
         "name": "test_date",
         "rawType": "object",
         "type": "string"
        },
        {
         "name": "playing_level",
         "rawType": "object",
         "type": "string"
        },
        {
         "name": "bat_speed_mph_group",
         "rawType": "object",
         "type": "string"
        },
        {
         "name": "pitch_speed_mph_group",
         "rawType": "object",
         "type": "unknown"
        },
        {
         "name": "jump_height_(imp-mom)_[cm]_mean_cmj",
         "rawType": "float64",
         "type": "float"
        },
        {
         "name": "lower-limb_stiffness_[n/m]_mean_cmj",
         "rawType": "float64",
         "type": "float"
        },
        {
         "name": "peak_power_[w]_mean_cmj",
         "rawType": "float64",
         "type": "float"
        },
        {
         "name": "peak_power_/_bm_[w/kg]_mean_cmj",
         "rawType": "float64",
         "type": "float"
        },
        {
         "name": "eccentric_braking_rfd_[n/s]_mean_cmj",
         "rawType": "float64",
         "type": "float"
        },
        {
         "name": "eccentric_duration_[ms]_mean_cmj",
         "rawType": "float64",
         "type": "float"
        },
        {
         "name": "concentric_duration_[ms]_mean_cmj",
         "rawType": "float64",
         "type": "float"
        },
        {
         "name": "rsi-modified_[m/s]_mean_cmj",
         "rawType": "float64",
         "type": "float"
        },
        {
         "name": "countermovement_depth_[cm]_mean_cmj",
         "rawType": "float64",
         "type": "float"
        },
        {
         "name": "cmj_stiffness_asymmetry_[%_l,r]_mean_cmj",
         "rawType": "float64",
         "type": "float"
        },
        {
         "name": "eccentric_deceleration_impulse_(asymmetry)_[%_l,r]_mean_cmj",
         "rawType": "float64",
         "type": "float"
        },
        {
         "name": "p1_concentric_impulse_asymmetry_[%_l,r]_mean_cmj",
         "rawType": "float64",
         "type": "float"
        },
        {
         "name": "p2_concentric_impulse_asymmetry_[%_l,r]_mean_cmj",
         "rawType": "float64",
         "type": "float"
        },
        {
         "name": "concentric_peak_force_[n]_mean_cmj",
         "rawType": "float64",
         "type": "float"
        },
        {
         "name": "eccentric_peak_force_[n]_mean_cmj",
         "rawType": "float64",
         "type": "float"
        },
        {
         "name": "minimum_eccentric_force_[n]_mean_cmj",
         "rawType": "float64",
         "type": "float"
        },
        {
         "name": "jump_height_(imp-mom)_[cm]_mean_sj",
         "rawType": "float64",
         "type": "float"
        },
        {
         "name": "peak_power_[w]_mean_sj",
         "rawType": "float64",
         "type": "float"
        },
        {
         "name": "peak_power_/_bm_[w/kg]_mean_sj",
         "rawType": "float64",
         "type": "float"
        },
        {
         "name": "p1_concentric_impulse_asymmetry_[%_l,r]_mean_sj",
         "rawType": "float64",
         "type": "float"
        },
        {
         "name": "p2_concentric_impulse_asymmetry_[%_l,r]_mean_sj",
         "rawType": "float64",
         "type": "float"
        },
        {
         "name": "peak_vertical_force_[n]_max_imtp",
         "rawType": "float64",
         "type": "float"
        },
        {
         "name": "net_peak_vertical_force_[n]_max_imtp",
         "rawType": "float64",
         "type": "float"
        },
        {
         "name": "force_at_100ms_[n]_max_imtp",
         "rawType": "float64",
         "type": "float"
        },
        {
         "name": "force_at_150ms_[n]_max_imtp",
         "rawType": "float64",
         "type": "float"
        },
        {
         "name": "force_at_200ms_[n]_max_imtp",
         "rawType": "float64",
         "type": "float"
        },
        {
         "name": "best_active_stiffness_[n/m]_mean_ht",
         "rawType": "float64",
         "type": "float"
        },
        {
         "name": "best_jump_height_(flight_time)_[cm]_mean_ht",
         "rawType": "float64",
         "type": "float"
        },
        {
         "name": "best_rsi_(flight/contact_time)_mean_ht",
         "rawType": "float64",
         "type": "float"
        },
        {
         "name": "best_rsi_(jump_height/contact_time)_[m/s]_mean_ht",
         "rawType": "float64",
         "type": "float"
        },
        {
         "name": "peak_takeoff_force_[n]_mean_pp",
         "rawType": "float64",
         "type": "float"
        },
        {
         "name": "peak_eccentric_force_[n]_mean_pp",
         "rawType": "float64",
         "type": "float"
        },
        {
         "name": "peak_takeoff_force_asymmetry_[%_l,r]_mean_pp",
         "rawType": "float64",
         "type": "float"
        },
        {
         "name": "peak_eccentric_force_asymmetry_[%_l,r]_mean_pp",
         "rawType": "float64",
         "type": "float"
        },
        {
         "name": "TSpineRomR",
         "rawType": "float64",
         "type": "float"
        },
        {
         "name": "TSpineRomL",
         "rawType": "float64",
         "type": "float"
        },
        {
         "name": "ShoulderERL",
         "rawType": "float64",
         "type": "float"
        },
        {
         "name": "ShoulderERR",
         "rawType": "float64",
         "type": "float"
        },
        {
         "name": "ShoulderIRL",
         "rawType": "float64",
         "type": "float"
        },
        {
         "name": "ShoulderIRR",
         "rawType": "float64",
         "type": "float"
        },
        {
         "name": "pitching_session_date",
         "rawType": "object",
         "type": "unknown"
        },
        {
         "name": "pitch_speed_mph",
         "rawType": "float64",
         "type": "float"
        },
        {
         "name": "pitching_max_hss",
         "rawType": "float64",
         "type": "float"
        },
        {
         "name": "hitting_session_date",
         "rawType": "object",
         "type": "string"
        },
        {
         "name": "bat_speed_mph",
         "rawType": "float64",
         "type": "float"
        },
        {
         "name": "hitting_max_hss",
         "rawType": "float64",
         "type": "float"
        },
        {
         "name": "relative_strength",
         "rawType": "float64",
         "type": "float"
        },
        {
         "name": "body_weight_[lbs]",
         "rawType": "float64",
         "type": "float"
        },
        {
         "name": "athlete_uid",
         "rawType": "object",
         "type": "string"
        }
       ],
       "ref": "86bfbf32-b3fc-43ea-8778-8de6205d8880",
       "rows": [
        [
         "0",
         "2021-07-27",
         "High School",
         "<65",
         null,
         "38.47",
         "2896.73",
         "3353.12",
         "52.84",
         "2846.22",
         "614.75",
         "316.75",
         "0.43",
         "-36.45",
         "3.59",
         "13.17",
         "0.8",
         "0.73",
         "1387.4",
         "1374.4",
         "318.02",
         "33.35",
         "3154.01",
         "49.7",
         "-3.86",
         "-1.79",
         "2206.93",
         "1587.84",
         "861.51",
         "1026.83",
         "1198.14",
         "175423.49",
         "22.41",
         "2.21",
         "115.68",
         null,
         null,
         null,
         null,
         "51.0",
         "52.0",
         "22.4",
         "26.2",
         "24.2",
         "28.1",
         null,
         null,
         null,
         "2021-07-27",
         "52.7",
         "26.8",
         "2.55",
         "139.61",
         "fd3d7a63-ef2c-43d5-96dd-1f5c1762b025"
        ],
        [
         "1",
         "2021-08-12",
         "College",
         "<65",
         null,
         "23.45",
         "5415.16",
         "3311.7",
         "42.11",
         "5282.67",
         "420.0",
         "289.25",
         "0.38",
         "-27.77",
         "-0.07",
         "-9.29",
         "-7.85",
         "12.46",
         "1701.31",
         "1618.55",
         "113.93",
         "22.63",
         "3342.22",
         "42.5",
         "-1.96",
         "1.58",
         "3201.1",
         "2427.16",
         "825.1",
         "1094.7",
         "1540.9",
         "62347.62",
         "17.76",
         "2.37",
         "108.28",
         null,
         null,
         null,
         null,
         "50.0",
         "50.0",
         "45.3",
         "38.1",
         "51.7",
         "50.1",
         null,
         null,
         null,
         "2021-08-19",
         "61.1",
         "25.0",
         "3.15",
         "173.01",
         "e2fbb235-2e9e-43e1-9f01-c07a09ef569c"
        ],
        [
         "2",
         "2021-08-27",
         "High School",
         "<65",
         null,
         "43.09",
         "3305.2",
         "3240.11",
         "58.09",
         "2968.82",
         "481.25",
         "275.75",
         "0.59",
         "-33.0",
         "3.5",
         "8.79",
         "4.13",
         "-1.4",
         "1288.82",
         "1217.23",
         "126.1",
         "39.02",
         "2892.0",
         "51.85",
         "0.29",
         "0.92",
         "2512.12",
         "1963.24",
         "910.97",
         "1277.17",
         "1875.42",
         "27246.58",
         "27.54",
         "2.41",
         "135.9",
         null,
         null,
         null,
         null,
         "59.0",
         "63.0",
         "29.0",
         "30.7",
         "31.0",
         "26.2",
         null,
         null,
         null,
         "2021-08-24",
         "54.5",
         "15.1",
         "3.59",
         "122.72",
         "b57dca79-dfa8-40d3-99b9-b3ab9edd12cd"
        ],
        [
         "3",
         "2021-09-16",
         "College",
         "70+",
         null,
         "45.82",
         "4525.09",
         "5443.3",
         "61.16",
         "5537.47",
         "528.75",
         "281.75",
         "0.6",
         "-40.6",
         "-3.68",
         "-8.95",
         "3.44",
         "-0.55",
         "2134.09",
         "2131.4",
         "295.45",
         "43.83",
         "5383.53",
         "60.49",
         "-2.89",
         "1.97",
         "4560.2",
         "3691.72",
         "1468.4",
         "1925.8",
         "2385.6",
         "42117.34",
         "25.04",
         "2.51",
         "136.16",
         null,
         null,
         null,
         null,
         "59.0",
         "64.0",
         "60.2",
         "51.7",
         "65.2",
         "50.9",
         null,
         null,
         null,
         "2021-09-16",
         "73.0",
         "36.1",
         "4.23",
         "195.8",
         "7d871165-426e-4278-aabb-48c2b613d2dd"
        ],
        [
         "4",
         "2021-09-28",
         "College",
         "<65",
         null,
         "40.19",
         "5999.71",
         "4970.38",
         "57.06",
         "7077.01",
         "486.0",
         "265.0",
         "0.61",
         "-33.14",
         "11.44",
         "8.24",
         "10.44",
         "16.31",
         "2163.6",
         "2154.31",
         "203.49",
         "35.19",
         "4385.42",
         "50.34",
         "15.99",
         "8.23",
         "4013.7",
         "3160.13",
         "1444.9",
         "1846.6",
         "2292.7",
         "37800.67",
         "31.27",
         "2.7",
         "168.55",
         null,
         null,
         null,
         null,
         "76.0",
         "64.0",
         "42.1",
         "58.2",
         "44.8",
         "51.7",
         null,
         null,
         null,
         "2021-09-28",
         "64.6",
         "20.7",
         "3.7",
         "191.66",
         "7f13a3ee-1114-47a0-97bd-15030a2c38c4"
        ]
       ],
       "shape": {
        "columns": 53,
        "rows": 5
       }
      },
      "text/html": [
       "<div>\n",
       "<style scoped>\n",
       "    .dataframe tbody tr th:only-of-type {\n",
       "        vertical-align: middle;\n",
       "    }\n",
       "\n",
       "    .dataframe tbody tr th {\n",
       "        vertical-align: top;\n",
       "    }\n",
       "\n",
       "    .dataframe thead th {\n",
       "        text-align: right;\n",
       "    }\n",
       "</style>\n",
       "<table border=\"1\" class=\"dataframe\">\n",
       "  <thead>\n",
       "    <tr style=\"text-align: right;\">\n",
       "      <th></th>\n",
       "      <th>test_date</th>\n",
       "      <th>playing_level</th>\n",
       "      <th>bat_speed_mph_group</th>\n",
       "      <th>pitch_speed_mph_group</th>\n",
       "      <th>jump_height_(imp-mom)_[cm]_mean_cmj</th>\n",
       "      <th>lower-limb_stiffness_[n/m]_mean_cmj</th>\n",
       "      <th>peak_power_[w]_mean_cmj</th>\n",
       "      <th>peak_power_/_bm_[w/kg]_mean_cmj</th>\n",
       "      <th>eccentric_braking_rfd_[n/s]_mean_cmj</th>\n",
       "      <th>eccentric_duration_[ms]_mean_cmj</th>\n",
       "      <th>...</th>\n",
       "      <th>ShoulderIRR</th>\n",
       "      <th>pitching_session_date</th>\n",
       "      <th>pitch_speed_mph</th>\n",
       "      <th>pitching_max_hss</th>\n",
       "      <th>hitting_session_date</th>\n",
       "      <th>bat_speed_mph</th>\n",
       "      <th>hitting_max_hss</th>\n",
       "      <th>relative_strength</th>\n",
       "      <th>body_weight_[lbs]</th>\n",
       "      <th>athlete_uid</th>\n",
       "    </tr>\n",
       "  </thead>\n",
       "  <tbody>\n",
       "    <tr>\n",
       "      <th>0</th>\n",
       "      <td>2021-07-27</td>\n",
       "      <td>High School</td>\n",
       "      <td>&lt;65</td>\n",
       "      <td>NaN</td>\n",
       "      <td>38.47</td>\n",
       "      <td>2896.73</td>\n",
       "      <td>3353.12</td>\n",
       "      <td>52.84</td>\n",
       "      <td>2846.22</td>\n",
       "      <td>614.75</td>\n",
       "      <td>...</td>\n",
       "      <td>28.1</td>\n",
       "      <td>NaN</td>\n",
       "      <td>NaN</td>\n",
       "      <td>NaN</td>\n",
       "      <td>2021-07-27</td>\n",
       "      <td>52.7</td>\n",
       "      <td>26.8</td>\n",
       "      <td>2.55</td>\n",
       "      <td>139.61</td>\n",
       "      <td>fd3d7a63-ef2c-43d5-96dd-1f5c1762b025</td>\n",
       "    </tr>\n",
       "    <tr>\n",
       "      <th>1</th>\n",
       "      <td>2021-08-12</td>\n",
       "      <td>College</td>\n",
       "      <td>&lt;65</td>\n",
       "      <td>NaN</td>\n",
       "      <td>23.45</td>\n",
       "      <td>5415.16</td>\n",
       "      <td>3311.70</td>\n",
       "      <td>42.11</td>\n",
       "      <td>5282.67</td>\n",
       "      <td>420.00</td>\n",
       "      <td>...</td>\n",
       "      <td>50.1</td>\n",
       "      <td>NaN</td>\n",
       "      <td>NaN</td>\n",
       "      <td>NaN</td>\n",
       "      <td>2021-08-19</td>\n",
       "      <td>61.1</td>\n",
       "      <td>25.0</td>\n",
       "      <td>3.15</td>\n",
       "      <td>173.01</td>\n",
       "      <td>e2fbb235-2e9e-43e1-9f01-c07a09ef569c</td>\n",
       "    </tr>\n",
       "    <tr>\n",
       "      <th>2</th>\n",
       "      <td>2021-08-27</td>\n",
       "      <td>High School</td>\n",
       "      <td>&lt;65</td>\n",
       "      <td>NaN</td>\n",
       "      <td>43.09</td>\n",
       "      <td>3305.20</td>\n",
       "      <td>3240.11</td>\n",
       "      <td>58.09</td>\n",
       "      <td>2968.82</td>\n",
       "      <td>481.25</td>\n",
       "      <td>...</td>\n",
       "      <td>26.2</td>\n",
       "      <td>NaN</td>\n",
       "      <td>NaN</td>\n",
       "      <td>NaN</td>\n",
       "      <td>2021-08-24</td>\n",
       "      <td>54.5</td>\n",
       "      <td>15.1</td>\n",
       "      <td>3.59</td>\n",
       "      <td>122.72</td>\n",
       "      <td>b57dca79-dfa8-40d3-99b9-b3ab9edd12cd</td>\n",
       "    </tr>\n",
       "    <tr>\n",
       "      <th>3</th>\n",
       "      <td>2021-09-16</td>\n",
       "      <td>College</td>\n",
       "      <td>70+</td>\n",
       "      <td>NaN</td>\n",
       "      <td>45.82</td>\n",
       "      <td>4525.09</td>\n",
       "      <td>5443.30</td>\n",
       "      <td>61.16</td>\n",
       "      <td>5537.47</td>\n",
       "      <td>528.75</td>\n",
       "      <td>...</td>\n",
       "      <td>50.9</td>\n",
       "      <td>NaN</td>\n",
       "      <td>NaN</td>\n",
       "      <td>NaN</td>\n",
       "      <td>2021-09-16</td>\n",
       "      <td>73.0</td>\n",
       "      <td>36.1</td>\n",
       "      <td>4.23</td>\n",
       "      <td>195.80</td>\n",
       "      <td>7d871165-426e-4278-aabb-48c2b613d2dd</td>\n",
       "    </tr>\n",
       "    <tr>\n",
       "      <th>4</th>\n",
       "      <td>2021-09-28</td>\n",
       "      <td>College</td>\n",
       "      <td>&lt;65</td>\n",
       "      <td>NaN</td>\n",
       "      <td>40.19</td>\n",
       "      <td>5999.71</td>\n",
       "      <td>4970.38</td>\n",
       "      <td>57.06</td>\n",
       "      <td>7077.01</td>\n",
       "      <td>486.00</td>\n",
       "      <td>...</td>\n",
       "      <td>51.7</td>\n",
       "      <td>NaN</td>\n",
       "      <td>NaN</td>\n",
       "      <td>NaN</td>\n",
       "      <td>2021-09-28</td>\n",
       "      <td>64.6</td>\n",
       "      <td>20.7</td>\n",
       "      <td>3.70</td>\n",
       "      <td>191.66</td>\n",
       "      <td>7f13a3ee-1114-47a0-97bd-15030a2c38c4</td>\n",
       "    </tr>\n",
       "  </tbody>\n",
       "</table>\n",
       "<p>5 rows × 53 columns</p>\n",
       "</div>"
      ],
      "text/plain": [
       "    test_date playing_level bat_speed_mph_group pitch_speed_mph_group  \\\n",
       "0  2021-07-27   High School                 <65                   NaN   \n",
       "1  2021-08-12       College                 <65                   NaN   \n",
       "2  2021-08-27   High School                 <65                   NaN   \n",
       "3  2021-09-16       College                 70+                   NaN   \n",
       "4  2021-09-28       College                 <65                   NaN   \n",
       "\n",
       "   jump_height_(imp-mom)_[cm]_mean_cmj  lower-limb_stiffness_[n/m]_mean_cmj  \\\n",
       "0                                38.47                              2896.73   \n",
       "1                                23.45                              5415.16   \n",
       "2                                43.09                              3305.20   \n",
       "3                                45.82                              4525.09   \n",
       "4                                40.19                              5999.71   \n",
       "\n",
       "   peak_power_[w]_mean_cmj  peak_power_/_bm_[w/kg]_mean_cmj  \\\n",
       "0                  3353.12                            52.84   \n",
       "1                  3311.70                            42.11   \n",
       "2                  3240.11                            58.09   \n",
       "3                  5443.30                            61.16   \n",
       "4                  4970.38                            57.06   \n",
       "\n",
       "   eccentric_braking_rfd_[n/s]_mean_cmj  eccentric_duration_[ms]_mean_cmj  \\\n",
       "0                               2846.22                            614.75   \n",
       "1                               5282.67                            420.00   \n",
       "2                               2968.82                            481.25   \n",
       "3                               5537.47                            528.75   \n",
       "4                               7077.01                            486.00   \n",
       "\n",
       "   ...  ShoulderIRR  pitching_session_date  pitch_speed_mph  pitching_max_hss  \\\n",
       "0  ...         28.1                    NaN              NaN               NaN   \n",
       "1  ...         50.1                    NaN              NaN               NaN   \n",
       "2  ...         26.2                    NaN              NaN               NaN   \n",
       "3  ...         50.9                    NaN              NaN               NaN   \n",
       "4  ...         51.7                    NaN              NaN               NaN   \n",
       "\n",
       "   hitting_session_date  bat_speed_mph  hitting_max_hss  relative_strength  \\\n",
       "0            2021-07-27           52.7             26.8               2.55   \n",
       "1            2021-08-19           61.1             25.0               3.15   \n",
       "2            2021-08-24           54.5             15.1               3.59   \n",
       "3            2021-09-16           73.0             36.1               4.23   \n",
       "4            2021-09-28           64.6             20.7               3.70   \n",
       "\n",
       "   body_weight_[lbs]                           athlete_uid  \n",
       "0             139.61  fd3d7a63-ef2c-43d5-96dd-1f5c1762b025  \n",
       "1             173.01  e2fbb235-2e9e-43e1-9f01-c07a09ef569c  \n",
       "2             122.72  b57dca79-dfa8-40d3-99b9-b3ab9edd12cd  \n",
       "3             195.80  7d871165-426e-4278-aabb-48c2b613d2dd  \n",
       "4             191.66  7f13a3ee-1114-47a0-97bd-15030a2c38c4  \n",
       "\n",
       "[5 rows x 53 columns]"
      ]
     },
     "metadata": {},
     "output_type": "display_data"
    },
    {
     "data": {
      "text/markdown": [
       "#### Data Info"
      ],
      "text/plain": [
       "<IPython.core.display.Markdown object>"
      ]
     },
     "metadata": {},
     "output_type": "display_data"
    },
    {
     "data": {
      "text/markdown": [
       "```\n",
       "<class 'pandas.core.frame.DataFrame'>\n",
       "RangeIndex: 1934 entries, 0 to 1933\n",
       "Data columns (total 53 columns):\n",
       " #   Column                                                       Non-Null Count  Dtype  \n",
       "---  ------                                                       --------------  -----  \n",
       " 0   test_date                                                    1934 non-null   object \n",
       " 1   playing_level                                                1934 non-null   object \n",
       " 2   bat_speed_mph_group                                          923 non-null    object \n",
       " 3   pitch_speed_mph_group                                        1098 non-null   object \n",
       " 4   jump_height_(imp-mom)_[cm]_mean_cmj                          1913 non-null   float64\n",
       " 5   lower-limb_stiffness_[n/m]_mean_cmj                          1913 non-null   float64\n",
       " 6   peak_power_[w]_mean_cmj                                      1913 non-null   float64\n",
       " 7   peak_power_/_bm_[w/kg]_mean_cmj                              1913 non-null   float64\n",
       " 8   eccentric_braking_rfd_[n/s]_mean_cmj                         1913 non-null   float64\n",
       " 9   eccentric_duration_[ms]_mean_cmj                             1913 non-null   float64\n",
       " 10  concentric_duration_[ms]_mean_cmj                            1913 non-null   float64\n",
       " 11  rsi-modified_[m/s]_mean_cmj                                  1913 non-null   float64\n",
       " 12  countermovement_depth_[cm]_mean_cmj                          1913 non-null   float64\n",
       " 13  cmj_stiffness_asymmetry_[%_l,r]_mean_cmj                     1913 non-null   float64\n",
       " 14  eccentric_deceleration_impulse_(asymmetry)_[%_l,r]_mean_cmj  1913 non-null   float64\n",
       " 15  p1_concentric_impulse_asymmetry_[%_l,r]_mean_cmj             1913 non-null   float64\n",
       " 16  p2_concentric_impulse_asymmetry_[%_l,r]_mean_cmj             1913 non-null   float64\n",
       " 17  concentric_peak_force_[n]_mean_cmj                           1913 non-null   float64\n",
       " 18  eccentric_peak_force_[n]_mean_cmj                            1913 non-null   float64\n",
       " 19  minimum_eccentric_force_[n]_mean_cmj                         1913 non-null   float64\n",
       " 20  jump_height_(imp-mom)_[cm]_mean_sj                           1827 non-null   float64\n",
       " 21  peak_power_[w]_mean_sj                                       1827 non-null   float64\n",
       " 22  peak_power_/_bm_[w/kg]_mean_sj                               1827 non-null   float64\n",
       " 23  p1_concentric_impulse_asymmetry_[%_l,r]_mean_sj              1827 non-null   float64\n",
       " 24  p2_concentric_impulse_asymmetry_[%_l,r]_mean_sj              1827 non-null   float64\n",
       " 25  peak_vertical_force_[n]_max_imtp                             1518 non-null   float64\n",
       " 26  net_peak_vertical_force_[n]_max_imtp                         1518 non-null   float64\n",
       " 27  force_at_100ms_[n]_max_imtp                                  1518 non-null   float64\n",
       " 28  force_at_150ms_[n]_max_imtp                                  1518 non-null   float64\n",
       " 29  force_at_200ms_[n]_max_imtp                                  1518 non-null   float64\n",
       " 30  best_active_stiffness_[n/m]_mean_ht                          1803 non-null   float64\n",
       " 31  best_jump_height_(flight_time)_[cm]_mean_ht                  1803 non-null   float64\n",
       " 32  best_rsi_(flight/contact_time)_mean_ht                       1803 non-null   float64\n",
       " 33  best_rsi_(jump_height/contact_time)_[m/s]_mean_ht            1803 non-null   float64\n",
       " 34  peak_takeoff_force_[n]_mean_pp                               438 non-null    float64\n",
       " 35  peak_eccentric_force_[n]_mean_pp                             438 non-null    float64\n",
       " 36  peak_takeoff_force_asymmetry_[%_l,r]_mean_pp                 438 non-null    float64\n",
       " 37  peak_eccentric_force_asymmetry_[%_l,r]_mean_pp               438 non-null    float64\n",
       " 38  TSpineRomR                                                   1515 non-null   float64\n",
       " 39  TSpineRomL                                                   1514 non-null   float64\n",
       " 40  ShoulderERL                                                  1220 non-null   float64\n",
       " 41  ShoulderERR                                                  1408 non-null   float64\n",
       " 42  ShoulderIRL                                                  1216 non-null   float64\n",
       " 43  ShoulderIRR                                                  1404 non-null   float64\n",
       " 44  pitching_session_date                                        1098 non-null   object \n",
       " 45  pitch_speed_mph                                              1098 non-null   float64\n",
       " 46  pitching_max_hss                                             1098 non-null   float64\n",
       " 47  hitting_session_date                                         925 non-null    object \n",
       " 48  bat_speed_mph                                                923 non-null    float64\n",
       " 49  hitting_max_hss                                              925 non-null    float64\n",
       " 50  relative_strength                                            1498 non-null   float64\n",
       " 51  body_weight_[lbs]                                            1913 non-null   float64\n",
       " 52  athlete_uid                                                  1934 non-null   object \n",
       "dtypes: float64(46), object(7)\n",
       "memory usage: 800.9+ KB\n",
       "\n",
       "```"
      ],
      "text/plain": [
       "<IPython.core.display.Markdown object>"
      ]
     },
     "metadata": {},
     "output_type": "display_data"
    },
    {
     "data": {
      "text/markdown": [
       "#### Data Description"
      ],
      "text/plain": [
       "<IPython.core.display.Markdown object>"
      ]
     },
     "metadata": {},
     "output_type": "display_data"
    },
    {
     "data": {
      "application/vnd.microsoft.datawrangler.viewer.v0+json": {
       "columns": [
        {
         "name": "index",
         "rawType": "object",
         "type": "string"
        },
        {
         "name": "jump_height_(imp-mom)_[cm]_mean_cmj",
         "rawType": "float64",
         "type": "float"
        },
        {
         "name": "lower-limb_stiffness_[n/m]_mean_cmj",
         "rawType": "float64",
         "type": "float"
        },
        {
         "name": "peak_power_[w]_mean_cmj",
         "rawType": "float64",
         "type": "float"
        },
        {
         "name": "peak_power_/_bm_[w/kg]_mean_cmj",
         "rawType": "float64",
         "type": "float"
        },
        {
         "name": "eccentric_braking_rfd_[n/s]_mean_cmj",
         "rawType": "float64",
         "type": "float"
        },
        {
         "name": "eccentric_duration_[ms]_mean_cmj",
         "rawType": "float64",
         "type": "float"
        },
        {
         "name": "concentric_duration_[ms]_mean_cmj",
         "rawType": "float64",
         "type": "float"
        },
        {
         "name": "rsi-modified_[m/s]_mean_cmj",
         "rawType": "float64",
         "type": "float"
        },
        {
         "name": "countermovement_depth_[cm]_mean_cmj",
         "rawType": "float64",
         "type": "float"
        },
        {
         "name": "cmj_stiffness_asymmetry_[%_l,r]_mean_cmj",
         "rawType": "float64",
         "type": "float"
        },
        {
         "name": "eccentric_deceleration_impulse_(asymmetry)_[%_l,r]_mean_cmj",
         "rawType": "float64",
         "type": "float"
        },
        {
         "name": "p1_concentric_impulse_asymmetry_[%_l,r]_mean_cmj",
         "rawType": "float64",
         "type": "float"
        },
        {
         "name": "p2_concentric_impulse_asymmetry_[%_l,r]_mean_cmj",
         "rawType": "float64",
         "type": "float"
        },
        {
         "name": "concentric_peak_force_[n]_mean_cmj",
         "rawType": "float64",
         "type": "float"
        },
        {
         "name": "eccentric_peak_force_[n]_mean_cmj",
         "rawType": "float64",
         "type": "float"
        },
        {
         "name": "minimum_eccentric_force_[n]_mean_cmj",
         "rawType": "float64",
         "type": "float"
        },
        {
         "name": "jump_height_(imp-mom)_[cm]_mean_sj",
         "rawType": "float64",
         "type": "float"
        },
        {
         "name": "peak_power_[w]_mean_sj",
         "rawType": "float64",
         "type": "float"
        },
        {
         "name": "peak_power_/_bm_[w/kg]_mean_sj",
         "rawType": "float64",
         "type": "float"
        },
        {
         "name": "p1_concentric_impulse_asymmetry_[%_l,r]_mean_sj",
         "rawType": "float64",
         "type": "float"
        },
        {
         "name": "p2_concentric_impulse_asymmetry_[%_l,r]_mean_sj",
         "rawType": "float64",
         "type": "float"
        },
        {
         "name": "peak_vertical_force_[n]_max_imtp",
         "rawType": "float64",
         "type": "float"
        },
        {
         "name": "net_peak_vertical_force_[n]_max_imtp",
         "rawType": "float64",
         "type": "float"
        },
        {
         "name": "force_at_100ms_[n]_max_imtp",
         "rawType": "float64",
         "type": "float"
        },
        {
         "name": "force_at_150ms_[n]_max_imtp",
         "rawType": "float64",
         "type": "float"
        },
        {
         "name": "force_at_200ms_[n]_max_imtp",
         "rawType": "float64",
         "type": "float"
        },
        {
         "name": "best_active_stiffness_[n/m]_mean_ht",
         "rawType": "float64",
         "type": "float"
        },
        {
         "name": "best_jump_height_(flight_time)_[cm]_mean_ht",
         "rawType": "float64",
         "type": "float"
        },
        {
         "name": "best_rsi_(flight/contact_time)_mean_ht",
         "rawType": "float64",
         "type": "float"
        },
        {
         "name": "best_rsi_(jump_height/contact_time)_[m/s]_mean_ht",
         "rawType": "float64",
         "type": "float"
        },
        {
         "name": "peak_takeoff_force_[n]_mean_pp",
         "rawType": "float64",
         "type": "float"
        },
        {
         "name": "peak_eccentric_force_[n]_mean_pp",
         "rawType": "float64",
         "type": "float"
        },
        {
         "name": "peak_takeoff_force_asymmetry_[%_l,r]_mean_pp",
         "rawType": "float64",
         "type": "float"
        },
        {
         "name": "peak_eccentric_force_asymmetry_[%_l,r]_mean_pp",
         "rawType": "float64",
         "type": "float"
        },
        {
         "name": "TSpineRomR",
         "rawType": "float64",
         "type": "float"
        },
        {
         "name": "TSpineRomL",
         "rawType": "float64",
         "type": "float"
        },
        {
         "name": "ShoulderERL",
         "rawType": "float64",
         "type": "float"
        },
        {
         "name": "ShoulderERR",
         "rawType": "float64",
         "type": "float"
        },
        {
         "name": "ShoulderIRL",
         "rawType": "float64",
         "type": "float"
        },
        {
         "name": "ShoulderIRR",
         "rawType": "float64",
         "type": "float"
        },
        {
         "name": "pitch_speed_mph",
         "rawType": "float64",
         "type": "float"
        },
        {
         "name": "pitching_max_hss",
         "rawType": "float64",
         "type": "float"
        },
        {
         "name": "bat_speed_mph",
         "rawType": "float64",
         "type": "float"
        },
        {
         "name": "hitting_max_hss",
         "rawType": "float64",
         "type": "float"
        },
        {
         "name": "relative_strength",
         "rawType": "float64",
         "type": "float"
        },
        {
         "name": "body_weight_[lbs]",
         "rawType": "float64",
         "type": "float"
        }
       ],
       "ref": "21168ed5-d7ff-4ea5-af26-e0afdb74fe73",
       "rows": [
        [
         "count",
         "1913.0",
         "1913.0",
         "1913.0",
         "1913.0",
         "1913.0",
         "1913.0",
         "1913.0",
         "1913.0",
         "1913.0",
         "1913.0",
         "1913.0",
         "1913.0",
         "1913.0",
         "1913.0",
         "1913.0",
         "1913.0",
         "1827.0",
         "1827.0",
         "1827.0",
         "1827.0",
         "1827.0",
         "1518.0",
         "1518.0",
         "1518.0",
         "1518.0",
         "1518.0",
         "1803.0",
         "1803.0",
         "1803.0",
         "1803.0",
         "438.0",
         "438.0",
         "438.0",
         "438.0",
         "1515.0",
         "1514.0",
         "1220.0",
         "1408.0",
         "1216.0",
         "1404.0",
         "1098.0",
         "1098.0",
         "923.0",
         "925.0",
         "1498.0",
         "1913.0"
        ],
        [
         "mean",
         "39.00577626764244",
         "5374.107773131207",
         "4574.506502875066",
         "54.7440825927862",
         "6493.26488238369",
         "490.6476424464192",
         "280.27938316779927",
         "0.7513434396236279",
         "-36.76289074751699",
         "1.9257501306847884",
         "3.854845791949817",
         "1.8417720857292212",
         "0.8416623105070572",
         "2089.4537584945115",
         "2065.4482435964455",
         "156.3851907997909",
         "35.17677066228791",
         "4446.8178817734",
         "52.573995621237",
         "3.2434154351395725",
         "1.542446633825944",
         "3828.802727272727",
         "2980.098484848485",
         "1488.8422068511197",
         "1873.4027272727271",
         "2249.8096376811595",
         "45253.49234054354",
         "29.578746533555183",
         "2.490016638935108",
         "148.89557958957292",
         "1151.747488584475",
         "880.3059589041096",
         "-1.7515753424657536",
         "-1.1640867579908676",
         "58.3049504950495",
         "56.68626155878468",
         "46.48270491803279",
         "47.62372159090909",
         "46.641036184210535",
         "49.72674501424502",
         "77.11748633879782",
         "30.34635701275046",
         "64.66164680390033",
         "21.551135135135134",
         "3.5140387182910544",
         "181.21856769472032"
        ],
        [
         "std",
         "8.635264605538051",
         "2087.8833479083974",
         "1291.6466903412927",
         "9.300350057943401",
         "2693.557768331295",
         "63.045799303902115",
         "37.281725859891765",
         "6.131279679311777",
         "6.637434738908312",
         "7.594844435693613",
         "11.210189056934393",
         "7.176426340980991",
         "8.021385013086304",
         "530.2430983282349",
         "552.4028511291523",
         "106.53677147951268",
         "7.1822147741371",
         "1102.6758198355992",
         "8.43158088414595",
         "9.29261631088098",
         "6.454958891002116",
         "752.5964114212779",
         "689.2585074469612",
         "408.72326241927385",
         "540.2530011945721",
         "606.3369394987623",
         "39509.20520334631",
         "7.7095097655613785",
         "0.42977131692404524",
         "38.45283621127422",
         "249.48364991225588",
         "124.56294189014575",
         "8.845167812000911",
         "8.081387943062586",
         "8.442169144369515",
         "8.270380272288786",
         "10.016375643341446",
         "12.978861708292197",
         "12.923391313454257",
         "13.239774236293538",
         "12.26232359718549",
         "9.109323382993075",
         "7.743995105358734",
         "6.331188800861307",
         "0.6905119288982591",
         "35.50183361753084"
        ],
        [
         "min",
         "9.88",
         "932.42",
         "730.09",
         "24.31",
         "503.55",
         "315.5",
         "149.25",
         "0.15",
         "-64.21",
         "-27.62",
         "-33.52",
         "-28.17",
         "-49.81",
         "458.24",
         "396.47",
         "-10.9",
         "9.22",
         "952.57",
         "23.43",
         "-36.47",
         "-32.62",
         "1192.2",
         "333.63",
         "556.3",
         "577.4",
         "757.5",
         "0.0",
         "9.77",
         "1.1",
         "37.68",
         "501.69",
         "501.69",
         "-35.05",
         "-27.25",
         "30.0",
         "20.0",
         "15.8",
         "18.4",
         "15.0",
         "4.26",
         "0.0",
         "4.2",
         "21.4",
         "2.9",
         "0.39",
         "57.6"
        ],
        [
         "25%",
         "33.74",
         "4080.26",
         "3818.29",
         "49.01",
         "4482.48",
         "448.25",
         "254.5",
         "0.46",
         "-40.95",
         "-3.12",
         "-3.8",
         "-3.04",
         "-3.67",
         "1768.49",
         "1724.97",
         "77.09",
         "30.62",
         "3749.915",
         "47.065",
         "-2.855",
         "-2.4050000000000002",
         "3288.2",
         "2481.4875",
         "1197.9250000000002",
         "1457.9750000000001",
         "1800.7975",
         "30971.22",
         "25.27",
         "2.225",
         "124.015",
         "980.3225",
         "802.125",
         "-6.8225",
         "-6.4125",
         "53.0",
         "52.0",
         "39.6",
         "40.5",
         "37.375",
         "40.2",
         "71.9",
         "24.4",
         "60.55",
         "17.6",
         "3.05",
         "163.37"
        ],
        [
         "50%",
         "39.83",
         "5247.18",
         "4759.75",
         "55.37",
         "6302.65",
         "484.0",
         "278.5",
         "0.57",
         "-36.79",
         "2.04",
         "3.75",
         "1.85",
         "1.03",
         "2142.72",
         "2126.84",
         "133.34",
         "35.62",
         "4505.88",
         "52.92",
         "3.12",
         "1.51",
         "3833.95",
         "2986.7200000000003",
         "1433.0",
         "1824.1",
         "2233.545",
         "40587.93",
         "29.43",
         "2.5",
         "147.79",
         "1135.155",
         "876.505",
         "-1.635",
         "-1.4649999999999999",
         "59.0",
         "57.0",
         "46.3",
         "47.3",
         "45.8",
         "48.8",
         "80.4",
         "30.3",
         "65.8",
         "21.4",
         "3.5",
         "185.46"
        ],
        [
         "75%",
         "44.65",
         "6356.59",
         "5507.22",
         "61.03",
         "8229.98",
         "525.25",
         "304.33",
         "0.66",
         "-32.27",
         "6.94",
         "11.68",
         "6.54",
         "5.81",
         "2469.45",
         "2461.04",
         "208.79",
         "39.875",
         "5244.18",
         "58.375",
         "9.355",
         "5.645",
         "4323.2",
         "3423.04",
         "1709.95",
         "2214.9125000000004",
         "2672.085",
         "51379.625",
         "33.66",
         "2.77",
         "174.285",
         "1300.26",
         "953.31",
         "3.76",
         "4.535",
         "64.0",
         "62.0",
         "52.9",
         "54.0",
         "54.525",
         "57.4",
         "85.475",
         "36.1",
         "70.2",
         "25.5",
         "3.96",
         "204.31"
        ],
        [
         "max",
         "62.26",
         "31127.63",
         "8401.51",
         "84.43",
         "21176.56",
         "858.0",
         "481.75",
         "258.92",
         "-9.3",
         "26.62",
         "40.71",
         "31.15",
         "41.93",
         "3626.47",
         "3632.72",
         "750.98",
         "56.87",
         "7867.98",
         "80.45",
         "32.71",
         "38.0",
         "6560.02",
         "5590.63",
         "3813.5",
         "3830.9",
         "4141.5",
         "888106.65",
         "211.65",
         "4.12",
         "336.64",
         "2719.29",
         "1517.21",
         "21.87",
         "20.03",
         "81.0",
         "81.0",
         "83.5",
         "342.0",
         "100.0",
         "107.6",
         "94.7",
         "64.2",
         "85.4",
         "42.1",
         "6.01",
         "332.88"
        ]
       ],
       "shape": {
        "columns": 46,
        "rows": 8
       }
      },
      "text/html": [
       "<div>\n",
       "<style scoped>\n",
       "    .dataframe tbody tr th:only-of-type {\n",
       "        vertical-align: middle;\n",
       "    }\n",
       "\n",
       "    .dataframe tbody tr th {\n",
       "        vertical-align: top;\n",
       "    }\n",
       "\n",
       "    .dataframe thead th {\n",
       "        text-align: right;\n",
       "    }\n",
       "</style>\n",
       "<table border=\"1\" class=\"dataframe\">\n",
       "  <thead>\n",
       "    <tr style=\"text-align: right;\">\n",
       "      <th></th>\n",
       "      <th>jump_height_(imp-mom)_[cm]_mean_cmj</th>\n",
       "      <th>lower-limb_stiffness_[n/m]_mean_cmj</th>\n",
       "      <th>peak_power_[w]_mean_cmj</th>\n",
       "      <th>peak_power_/_bm_[w/kg]_mean_cmj</th>\n",
       "      <th>eccentric_braking_rfd_[n/s]_mean_cmj</th>\n",
       "      <th>eccentric_duration_[ms]_mean_cmj</th>\n",
       "      <th>concentric_duration_[ms]_mean_cmj</th>\n",
       "      <th>rsi-modified_[m/s]_mean_cmj</th>\n",
       "      <th>countermovement_depth_[cm]_mean_cmj</th>\n",
       "      <th>cmj_stiffness_asymmetry_[%_l,r]_mean_cmj</th>\n",
       "      <th>...</th>\n",
       "      <th>ShoulderERL</th>\n",
       "      <th>ShoulderERR</th>\n",
       "      <th>ShoulderIRL</th>\n",
       "      <th>ShoulderIRR</th>\n",
       "      <th>pitch_speed_mph</th>\n",
       "      <th>pitching_max_hss</th>\n",
       "      <th>bat_speed_mph</th>\n",
       "      <th>hitting_max_hss</th>\n",
       "      <th>relative_strength</th>\n",
       "      <th>body_weight_[lbs]</th>\n",
       "    </tr>\n",
       "  </thead>\n",
       "  <tbody>\n",
       "    <tr>\n",
       "      <th>count</th>\n",
       "      <td>1913.000000</td>\n",
       "      <td>1913.000000</td>\n",
       "      <td>1913.000000</td>\n",
       "      <td>1913.000000</td>\n",
       "      <td>1913.000000</td>\n",
       "      <td>1913.000000</td>\n",
       "      <td>1913.000000</td>\n",
       "      <td>1913.000000</td>\n",
       "      <td>1913.000000</td>\n",
       "      <td>1913.000000</td>\n",
       "      <td>...</td>\n",
       "      <td>1220.000000</td>\n",
       "      <td>1408.000000</td>\n",
       "      <td>1216.000000</td>\n",
       "      <td>1404.000000</td>\n",
       "      <td>1098.000000</td>\n",
       "      <td>1098.000000</td>\n",
       "      <td>923.000000</td>\n",
       "      <td>925.000000</td>\n",
       "      <td>1498.000000</td>\n",
       "      <td>1913.000000</td>\n",
       "    </tr>\n",
       "    <tr>\n",
       "      <th>mean</th>\n",
       "      <td>39.005776</td>\n",
       "      <td>5374.107773</td>\n",
       "      <td>4574.506503</td>\n",
       "      <td>54.744083</td>\n",
       "      <td>6493.264882</td>\n",
       "      <td>490.647642</td>\n",
       "      <td>280.279383</td>\n",
       "      <td>0.751343</td>\n",
       "      <td>-36.762891</td>\n",
       "      <td>1.925750</td>\n",
       "      <td>...</td>\n",
       "      <td>46.482705</td>\n",
       "      <td>47.623722</td>\n",
       "      <td>46.641036</td>\n",
       "      <td>49.726745</td>\n",
       "      <td>77.117486</td>\n",
       "      <td>30.346357</td>\n",
       "      <td>64.661647</td>\n",
       "      <td>21.551135</td>\n",
       "      <td>3.514039</td>\n",
       "      <td>181.218568</td>\n",
       "    </tr>\n",
       "    <tr>\n",
       "      <th>std</th>\n",
       "      <td>8.635265</td>\n",
       "      <td>2087.883348</td>\n",
       "      <td>1291.646690</td>\n",
       "      <td>9.300350</td>\n",
       "      <td>2693.557768</td>\n",
       "      <td>63.045799</td>\n",
       "      <td>37.281726</td>\n",
       "      <td>6.131280</td>\n",
       "      <td>6.637435</td>\n",
       "      <td>7.594844</td>\n",
       "      <td>...</td>\n",
       "      <td>10.016376</td>\n",
       "      <td>12.978862</td>\n",
       "      <td>12.923391</td>\n",
       "      <td>13.239774</td>\n",
       "      <td>12.262324</td>\n",
       "      <td>9.109323</td>\n",
       "      <td>7.743995</td>\n",
       "      <td>6.331189</td>\n",
       "      <td>0.690512</td>\n",
       "      <td>35.501834</td>\n",
       "    </tr>\n",
       "    <tr>\n",
       "      <th>min</th>\n",
       "      <td>9.880000</td>\n",
       "      <td>932.420000</td>\n",
       "      <td>730.090000</td>\n",
       "      <td>24.310000</td>\n",
       "      <td>503.550000</td>\n",
       "      <td>315.500000</td>\n",
       "      <td>149.250000</td>\n",
       "      <td>0.150000</td>\n",
       "      <td>-64.210000</td>\n",
       "      <td>-27.620000</td>\n",
       "      <td>...</td>\n",
       "      <td>15.800000</td>\n",
       "      <td>18.400000</td>\n",
       "      <td>15.000000</td>\n",
       "      <td>4.260000</td>\n",
       "      <td>0.000000</td>\n",
       "      <td>4.200000</td>\n",
       "      <td>21.400000</td>\n",
       "      <td>2.900000</td>\n",
       "      <td>0.390000</td>\n",
       "      <td>57.600000</td>\n",
       "    </tr>\n",
       "    <tr>\n",
       "      <th>25%</th>\n",
       "      <td>33.740000</td>\n",
       "      <td>4080.260000</td>\n",
       "      <td>3818.290000</td>\n",
       "      <td>49.010000</td>\n",
       "      <td>4482.480000</td>\n",
       "      <td>448.250000</td>\n",
       "      <td>254.500000</td>\n",
       "      <td>0.460000</td>\n",
       "      <td>-40.950000</td>\n",
       "      <td>-3.120000</td>\n",
       "      <td>...</td>\n",
       "      <td>39.600000</td>\n",
       "      <td>40.500000</td>\n",
       "      <td>37.375000</td>\n",
       "      <td>40.200000</td>\n",
       "      <td>71.900000</td>\n",
       "      <td>24.400000</td>\n",
       "      <td>60.550000</td>\n",
       "      <td>17.600000</td>\n",
       "      <td>3.050000</td>\n",
       "      <td>163.370000</td>\n",
       "    </tr>\n",
       "    <tr>\n",
       "      <th>50%</th>\n",
       "      <td>39.830000</td>\n",
       "      <td>5247.180000</td>\n",
       "      <td>4759.750000</td>\n",
       "      <td>55.370000</td>\n",
       "      <td>6302.650000</td>\n",
       "      <td>484.000000</td>\n",
       "      <td>278.500000</td>\n",
       "      <td>0.570000</td>\n",
       "      <td>-36.790000</td>\n",
       "      <td>2.040000</td>\n",
       "      <td>...</td>\n",
       "      <td>46.300000</td>\n",
       "      <td>47.300000</td>\n",
       "      <td>45.800000</td>\n",
       "      <td>48.800000</td>\n",
       "      <td>80.400000</td>\n",
       "      <td>30.300000</td>\n",
       "      <td>65.800000</td>\n",
       "      <td>21.400000</td>\n",
       "      <td>3.500000</td>\n",
       "      <td>185.460000</td>\n",
       "    </tr>\n",
       "    <tr>\n",
       "      <th>75%</th>\n",
       "      <td>44.650000</td>\n",
       "      <td>6356.590000</td>\n",
       "      <td>5507.220000</td>\n",
       "      <td>61.030000</td>\n",
       "      <td>8229.980000</td>\n",
       "      <td>525.250000</td>\n",
       "      <td>304.330000</td>\n",
       "      <td>0.660000</td>\n",
       "      <td>-32.270000</td>\n",
       "      <td>6.940000</td>\n",
       "      <td>...</td>\n",
       "      <td>52.900000</td>\n",
       "      <td>54.000000</td>\n",
       "      <td>54.525000</td>\n",
       "      <td>57.400000</td>\n",
       "      <td>85.475000</td>\n",
       "      <td>36.100000</td>\n",
       "      <td>70.200000</td>\n",
       "      <td>25.500000</td>\n",
       "      <td>3.960000</td>\n",
       "      <td>204.310000</td>\n",
       "    </tr>\n",
       "    <tr>\n",
       "      <th>max</th>\n",
       "      <td>62.260000</td>\n",
       "      <td>31127.630000</td>\n",
       "      <td>8401.510000</td>\n",
       "      <td>84.430000</td>\n",
       "      <td>21176.560000</td>\n",
       "      <td>858.000000</td>\n",
       "      <td>481.750000</td>\n",
       "      <td>258.920000</td>\n",
       "      <td>-9.300000</td>\n",
       "      <td>26.620000</td>\n",
       "      <td>...</td>\n",
       "      <td>83.500000</td>\n",
       "      <td>342.000000</td>\n",
       "      <td>100.000000</td>\n",
       "      <td>107.600000</td>\n",
       "      <td>94.700000</td>\n",
       "      <td>64.200000</td>\n",
       "      <td>85.400000</td>\n",
       "      <td>42.100000</td>\n",
       "      <td>6.010000</td>\n",
       "      <td>332.880000</td>\n",
       "    </tr>\n",
       "  </tbody>\n",
       "</table>\n",
       "<p>8 rows × 46 columns</p>\n",
       "</div>"
      ],
      "text/plain": [
       "       jump_height_(imp-mom)_[cm]_mean_cmj  \\\n",
       "count                          1913.000000   \n",
       "mean                             39.005776   \n",
       "std                               8.635265   \n",
       "min                               9.880000   \n",
       "25%                              33.740000   \n",
       "50%                              39.830000   \n",
       "75%                              44.650000   \n",
       "max                              62.260000   \n",
       "\n",
       "       lower-limb_stiffness_[n/m]_mean_cmj  peak_power_[w]_mean_cmj  \\\n",
       "count                          1913.000000              1913.000000   \n",
       "mean                           5374.107773              4574.506503   \n",
       "std                            2087.883348              1291.646690   \n",
       "min                             932.420000               730.090000   \n",
       "25%                            4080.260000              3818.290000   \n",
       "50%                            5247.180000              4759.750000   \n",
       "75%                            6356.590000              5507.220000   \n",
       "max                           31127.630000              8401.510000   \n",
       "\n",
       "       peak_power_/_bm_[w/kg]_mean_cmj  eccentric_braking_rfd_[n/s]_mean_cmj  \\\n",
       "count                      1913.000000                           1913.000000   \n",
       "mean                         54.744083                           6493.264882   \n",
       "std                           9.300350                           2693.557768   \n",
       "min                          24.310000                            503.550000   \n",
       "25%                          49.010000                           4482.480000   \n",
       "50%                          55.370000                           6302.650000   \n",
       "75%                          61.030000                           8229.980000   \n",
       "max                          84.430000                          21176.560000   \n",
       "\n",
       "       eccentric_duration_[ms]_mean_cmj  concentric_duration_[ms]_mean_cmj  \\\n",
       "count                       1913.000000                        1913.000000   \n",
       "mean                         490.647642                         280.279383   \n",
       "std                           63.045799                          37.281726   \n",
       "min                          315.500000                         149.250000   \n",
       "25%                          448.250000                         254.500000   \n",
       "50%                          484.000000                         278.500000   \n",
       "75%                          525.250000                         304.330000   \n",
       "max                          858.000000                         481.750000   \n",
       "\n",
       "       rsi-modified_[m/s]_mean_cmj  countermovement_depth_[cm]_mean_cmj  \\\n",
       "count                  1913.000000                          1913.000000   \n",
       "mean                      0.751343                           -36.762891   \n",
       "std                       6.131280                             6.637435   \n",
       "min                       0.150000                           -64.210000   \n",
       "25%                       0.460000                           -40.950000   \n",
       "50%                       0.570000                           -36.790000   \n",
       "75%                       0.660000                           -32.270000   \n",
       "max                     258.920000                            -9.300000   \n",
       "\n",
       "       cmj_stiffness_asymmetry_[%_l,r]_mean_cmj  ...  ShoulderERL  \\\n",
       "count                               1913.000000  ...  1220.000000   \n",
       "mean                                   1.925750  ...    46.482705   \n",
       "std                                    7.594844  ...    10.016376   \n",
       "min                                  -27.620000  ...    15.800000   \n",
       "25%                                   -3.120000  ...    39.600000   \n",
       "50%                                    2.040000  ...    46.300000   \n",
       "75%                                    6.940000  ...    52.900000   \n",
       "max                                   26.620000  ...    83.500000   \n",
       "\n",
       "       ShoulderERR  ShoulderIRL  ShoulderIRR  pitch_speed_mph  \\\n",
       "count  1408.000000  1216.000000  1404.000000      1098.000000   \n",
       "mean     47.623722    46.641036    49.726745        77.117486   \n",
       "std      12.978862    12.923391    13.239774        12.262324   \n",
       "min      18.400000    15.000000     4.260000         0.000000   \n",
       "25%      40.500000    37.375000    40.200000        71.900000   \n",
       "50%      47.300000    45.800000    48.800000        80.400000   \n",
       "75%      54.000000    54.525000    57.400000        85.475000   \n",
       "max     342.000000   100.000000   107.600000        94.700000   \n",
       "\n",
       "       pitching_max_hss  bat_speed_mph  hitting_max_hss  relative_strength  \\\n",
       "count       1098.000000     923.000000       925.000000        1498.000000   \n",
       "mean          30.346357      64.661647        21.551135           3.514039   \n",
       "std            9.109323       7.743995         6.331189           0.690512   \n",
       "min            4.200000      21.400000         2.900000           0.390000   \n",
       "25%           24.400000      60.550000        17.600000           3.050000   \n",
       "50%           30.300000      65.800000        21.400000           3.500000   \n",
       "75%           36.100000      70.200000        25.500000           3.960000   \n",
       "max           64.200000      85.400000        42.100000           6.010000   \n",
       "\n",
       "       body_weight_[lbs]  \n",
       "count        1913.000000  \n",
       "mean          181.218568  \n",
       "std            35.501834  \n",
       "min            57.600000  \n",
       "25%           163.370000  \n",
       "50%           185.460000  \n",
       "75%           204.310000  \n",
       "max           332.880000  \n",
       "\n",
       "[8 rows x 46 columns]"
      ]
     },
     "metadata": {},
     "output_type": "display_data"
    }
   ],
   "source": [
    "from IPython.display import display, Markdown\n",
    "import io\n",
    "\n",
    "display(Markdown(\"#### First 5 Rows of Data\"))\n",
    "display(data.head())\n",
    "\n",
    "display(Markdown(\"#### Data Info\"))\n",
    "data_info = io.StringIO()\n",
    "data.info(buf=data_info)\n",
    "display(Markdown(\"```\\n\" + data_info.getvalue() + \"\\n```\"))\n",
    "\n",
    "display(Markdown(\"#### Data Description\"))\n",
    "display(data.describe())"
   ]
  },
  {
   "cell_type": "code",
   "execution_count": 41,
   "id": "7ce6de88",
   "metadata": {},
   "outputs": [
    {
     "data": {
      "text/markdown": [
       "#### Missing Values per Column"
      ],
      "text/plain": [
       "<IPython.core.display.Markdown object>"
      ]
     },
     "metadata": {},
     "output_type": "display_data"
    },
    {
     "data": {
      "application/vnd.microsoft.datawrangler.viewer.v0+json": {
       "columns": [
        {
         "name": "index",
         "rawType": "object",
         "type": "string"
        },
        {
         "name": "test_date",
         "rawType": "int64",
         "type": "integer"
        },
        {
         "name": "playing_level",
         "rawType": "int64",
         "type": "integer"
        },
        {
         "name": "bat_speed_mph_group",
         "rawType": "int64",
         "type": "integer"
        },
        {
         "name": "pitch_speed_mph_group",
         "rawType": "int64",
         "type": "integer"
        },
        {
         "name": "jump_height_(imp-mom)_[cm]_mean_cmj",
         "rawType": "int64",
         "type": "integer"
        },
        {
         "name": "lower-limb_stiffness_[n/m]_mean_cmj",
         "rawType": "int64",
         "type": "integer"
        },
        {
         "name": "peak_power_[w]_mean_cmj",
         "rawType": "int64",
         "type": "integer"
        },
        {
         "name": "peak_power_/_bm_[w/kg]_mean_cmj",
         "rawType": "int64",
         "type": "integer"
        },
        {
         "name": "eccentric_braking_rfd_[n/s]_mean_cmj",
         "rawType": "int64",
         "type": "integer"
        },
        {
         "name": "eccentric_duration_[ms]_mean_cmj",
         "rawType": "int64",
         "type": "integer"
        },
        {
         "name": "concentric_duration_[ms]_mean_cmj",
         "rawType": "int64",
         "type": "integer"
        },
        {
         "name": "rsi-modified_[m/s]_mean_cmj",
         "rawType": "int64",
         "type": "integer"
        },
        {
         "name": "countermovement_depth_[cm]_mean_cmj",
         "rawType": "int64",
         "type": "integer"
        },
        {
         "name": "cmj_stiffness_asymmetry_[%_l,r]_mean_cmj",
         "rawType": "int64",
         "type": "integer"
        },
        {
         "name": "eccentric_deceleration_impulse_(asymmetry)_[%_l,r]_mean_cmj",
         "rawType": "int64",
         "type": "integer"
        },
        {
         "name": "p1_concentric_impulse_asymmetry_[%_l,r]_mean_cmj",
         "rawType": "int64",
         "type": "integer"
        },
        {
         "name": "p2_concentric_impulse_asymmetry_[%_l,r]_mean_cmj",
         "rawType": "int64",
         "type": "integer"
        },
        {
         "name": "concentric_peak_force_[n]_mean_cmj",
         "rawType": "int64",
         "type": "integer"
        },
        {
         "name": "eccentric_peak_force_[n]_mean_cmj",
         "rawType": "int64",
         "type": "integer"
        },
        {
         "name": "minimum_eccentric_force_[n]_mean_cmj",
         "rawType": "int64",
         "type": "integer"
        },
        {
         "name": "jump_height_(imp-mom)_[cm]_mean_sj",
         "rawType": "int64",
         "type": "integer"
        },
        {
         "name": "peak_power_[w]_mean_sj",
         "rawType": "int64",
         "type": "integer"
        },
        {
         "name": "peak_power_/_bm_[w/kg]_mean_sj",
         "rawType": "int64",
         "type": "integer"
        },
        {
         "name": "p1_concentric_impulse_asymmetry_[%_l,r]_mean_sj",
         "rawType": "int64",
         "type": "integer"
        },
        {
         "name": "p2_concentric_impulse_asymmetry_[%_l,r]_mean_sj",
         "rawType": "int64",
         "type": "integer"
        },
        {
         "name": "peak_vertical_force_[n]_max_imtp",
         "rawType": "int64",
         "type": "integer"
        },
        {
         "name": "net_peak_vertical_force_[n]_max_imtp",
         "rawType": "int64",
         "type": "integer"
        },
        {
         "name": "force_at_100ms_[n]_max_imtp",
         "rawType": "int64",
         "type": "integer"
        },
        {
         "name": "force_at_150ms_[n]_max_imtp",
         "rawType": "int64",
         "type": "integer"
        },
        {
         "name": "force_at_200ms_[n]_max_imtp",
         "rawType": "int64",
         "type": "integer"
        },
        {
         "name": "best_active_stiffness_[n/m]_mean_ht",
         "rawType": "int64",
         "type": "integer"
        },
        {
         "name": "best_jump_height_(flight_time)_[cm]_mean_ht",
         "rawType": "int64",
         "type": "integer"
        },
        {
         "name": "best_rsi_(flight/contact_time)_mean_ht",
         "rawType": "int64",
         "type": "integer"
        },
        {
         "name": "best_rsi_(jump_height/contact_time)_[m/s]_mean_ht",
         "rawType": "int64",
         "type": "integer"
        },
        {
         "name": "peak_takeoff_force_[n]_mean_pp",
         "rawType": "int64",
         "type": "integer"
        },
        {
         "name": "peak_eccentric_force_[n]_mean_pp",
         "rawType": "int64",
         "type": "integer"
        },
        {
         "name": "peak_takeoff_force_asymmetry_[%_l,r]_mean_pp",
         "rawType": "int64",
         "type": "integer"
        },
        {
         "name": "peak_eccentric_force_asymmetry_[%_l,r]_mean_pp",
         "rawType": "int64",
         "type": "integer"
        },
        {
         "name": "TSpineRomR",
         "rawType": "int64",
         "type": "integer"
        },
        {
         "name": "TSpineRomL",
         "rawType": "int64",
         "type": "integer"
        },
        {
         "name": "ShoulderERL",
         "rawType": "int64",
         "type": "integer"
        },
        {
         "name": "ShoulderERR",
         "rawType": "int64",
         "type": "integer"
        },
        {
         "name": "ShoulderIRL",
         "rawType": "int64",
         "type": "integer"
        },
        {
         "name": "ShoulderIRR",
         "rawType": "int64",
         "type": "integer"
        },
        {
         "name": "pitching_session_date",
         "rawType": "int64",
         "type": "integer"
        },
        {
         "name": "pitch_speed_mph",
         "rawType": "int64",
         "type": "integer"
        },
        {
         "name": "pitching_max_hss",
         "rawType": "int64",
         "type": "integer"
        },
        {
         "name": "hitting_session_date",
         "rawType": "int64",
         "type": "integer"
        },
        {
         "name": "bat_speed_mph",
         "rawType": "int64",
         "type": "integer"
        },
        {
         "name": "hitting_max_hss",
         "rawType": "int64",
         "type": "integer"
        },
        {
         "name": "relative_strength",
         "rawType": "int64",
         "type": "integer"
        },
        {
         "name": "body_weight_[lbs]",
         "rawType": "int64",
         "type": "integer"
        },
        {
         "name": "athlete_uid",
         "rawType": "int64",
         "type": "integer"
        }
       ],
       "ref": "f45a47fd-a228-448a-80c5-9cbaab7682f4",
       "rows": [
        [
         "Null Count",
         "0",
         "0",
         "1011",
         "836",
         "21",
         "21",
         "21",
         "21",
         "21",
         "21",
         "21",
         "21",
         "21",
         "21",
         "21",
         "21",
         "21",
         "21",
         "21",
         "21",
         "107",
         "107",
         "107",
         "107",
         "107",
         "416",
         "416",
         "416",
         "416",
         "416",
         "131",
         "131",
         "131",
         "131",
         "1496",
         "1496",
         "1496",
         "1496",
         "419",
         "420",
         "714",
         "526",
         "718",
         "530",
         "836",
         "836",
         "836",
         "1009",
         "1011",
         "1009",
         "436",
         "21",
         "0"
        ]
       ],
       "shape": {
        "columns": 53,
        "rows": 1
       }
      },
      "text/html": [
       "<div>\n",
       "<style scoped>\n",
       "    .dataframe tbody tr th:only-of-type {\n",
       "        vertical-align: middle;\n",
       "    }\n",
       "\n",
       "    .dataframe tbody tr th {\n",
       "        vertical-align: top;\n",
       "    }\n",
       "\n",
       "    .dataframe thead th {\n",
       "        text-align: right;\n",
       "    }\n",
       "</style>\n",
       "<table border=\"1\" class=\"dataframe\">\n",
       "  <thead>\n",
       "    <tr style=\"text-align: right;\">\n",
       "      <th></th>\n",
       "      <th>test_date</th>\n",
       "      <th>playing_level</th>\n",
       "      <th>bat_speed_mph_group</th>\n",
       "      <th>pitch_speed_mph_group</th>\n",
       "      <th>jump_height_(imp-mom)_[cm]_mean_cmj</th>\n",
       "      <th>lower-limb_stiffness_[n/m]_mean_cmj</th>\n",
       "      <th>peak_power_[w]_mean_cmj</th>\n",
       "      <th>peak_power_/_bm_[w/kg]_mean_cmj</th>\n",
       "      <th>eccentric_braking_rfd_[n/s]_mean_cmj</th>\n",
       "      <th>eccentric_duration_[ms]_mean_cmj</th>\n",
       "      <th>...</th>\n",
       "      <th>ShoulderIRR</th>\n",
       "      <th>pitching_session_date</th>\n",
       "      <th>pitch_speed_mph</th>\n",
       "      <th>pitching_max_hss</th>\n",
       "      <th>hitting_session_date</th>\n",
       "      <th>bat_speed_mph</th>\n",
       "      <th>hitting_max_hss</th>\n",
       "      <th>relative_strength</th>\n",
       "      <th>body_weight_[lbs]</th>\n",
       "      <th>athlete_uid</th>\n",
       "    </tr>\n",
       "  </thead>\n",
       "  <tbody>\n",
       "    <tr>\n",
       "      <th>Null Count</th>\n",
       "      <td>0</td>\n",
       "      <td>0</td>\n",
       "      <td>1011</td>\n",
       "      <td>836</td>\n",
       "      <td>21</td>\n",
       "      <td>21</td>\n",
       "      <td>21</td>\n",
       "      <td>21</td>\n",
       "      <td>21</td>\n",
       "      <td>21</td>\n",
       "      <td>...</td>\n",
       "      <td>530</td>\n",
       "      <td>836</td>\n",
       "      <td>836</td>\n",
       "      <td>836</td>\n",
       "      <td>1009</td>\n",
       "      <td>1011</td>\n",
       "      <td>1009</td>\n",
       "      <td>436</td>\n",
       "      <td>21</td>\n",
       "      <td>0</td>\n",
       "    </tr>\n",
       "  </tbody>\n",
       "</table>\n",
       "<p>1 rows × 53 columns</p>\n",
       "</div>"
      ],
      "text/plain": [
       "            test_date  playing_level  bat_speed_mph_group  \\\n",
       "Null Count          0              0                 1011   \n",
       "\n",
       "            pitch_speed_mph_group  jump_height_(imp-mom)_[cm]_mean_cmj  \\\n",
       "Null Count                    836                                   21   \n",
       "\n",
       "            lower-limb_stiffness_[n/m]_mean_cmj  peak_power_[w]_mean_cmj  \\\n",
       "Null Count                                   21                       21   \n",
       "\n",
       "            peak_power_/_bm_[w/kg]_mean_cmj  \\\n",
       "Null Count                               21   \n",
       "\n",
       "            eccentric_braking_rfd_[n/s]_mean_cmj  \\\n",
       "Null Count                                    21   \n",
       "\n",
       "            eccentric_duration_[ms]_mean_cmj  ...  ShoulderIRR  \\\n",
       "Null Count                                21  ...          530   \n",
       "\n",
       "            pitching_session_date  pitch_speed_mph  pitching_max_hss  \\\n",
       "Null Count                    836              836               836   \n",
       "\n",
       "            hitting_session_date  bat_speed_mph  hitting_max_hss  \\\n",
       "Null Count                  1009           1011             1009   \n",
       "\n",
       "            relative_strength  body_weight_[lbs]  athlete_uid  \n",
       "Null Count                436                 21            0  \n",
       "\n",
       "[1 rows x 53 columns]"
      ]
     },
     "metadata": {},
     "output_type": "display_data"
    },
    {
     "data": {
      "text/markdown": [
       "#### Total Duplicate Rows"
      ],
      "text/plain": [
       "<IPython.core.display.Markdown object>"
      ]
     },
     "metadata": {},
     "output_type": "display_data"
    },
    {
     "data": {
      "text/markdown": [
       "**0**"
      ],
      "text/plain": [
       "<IPython.core.display.Markdown object>"
      ]
     },
     "metadata": {},
     "output_type": "display_data"
    }
   ],
   "source": [
    "from IPython.display import display, Markdown\n",
    "\n",
    "display(Markdown(\"#### Missing Values per Column\"))\n",
    "display(data.isnull().sum().to_frame(\"Null Count\").T)\n",
    "\n",
    "display(Markdown(\"#### Total Duplicate Rows\"))\n",
    "display(Markdown(f\"**{data.duplicated().sum()}**\"))"
   ]
  },
  {
   "cell_type": "markdown",
   "id": "4b3b3a75",
   "metadata": {},
   "source": [
    "### Step 2: Data Preprocessing"
   ]
  },
  {
   "cell_type": "code",
   "execution_count": 18,
   "id": "06331b59",
   "metadata": {},
   "outputs": [
    {
     "name": "stdout",
     "output_type": "stream",
     "text": [
      "     peak_power_[w]_mean_cmj  peak_power_/_bm_[w/kg]_mean_cmj  \\\n",
      "368                  5431.54                            54.91   \n",
      "371                  5308.33                            60.77   \n",
      "373                  6104.43                            71.16   \n",
      "376                  4475.10                            55.79   \n",
      "377                  5513.02                            56.19   \n",
      "\n",
      "     concentric_peak_force_[n]_mean_cmj  eccentric_peak_force_[n]_mean_cmj  \\\n",
      "368                             2487.28                            2457.90   \n",
      "371                             2297.58                            2319.14   \n",
      "373                             2524.75                            2537.48   \n",
      "376                             1943.91                            1944.67   \n",
      "377                             2431.48                            2463.40   \n",
      "\n",
      "     peak_power_[w]_mean_sj  peak_power_/_bm_[w/kg]_mean_sj  \\\n",
      "368                 5129.04                           51.85   \n",
      "371                 4852.81                           55.56   \n",
      "373                 5942.51                           69.27   \n",
      "376                 4412.81                           55.01   \n",
      "377                 5286.96                           53.89   \n",
      "\n",
      "     peak_vertical_force_[n]_max_imtp  net_peak_vertical_force_[n]_max_imtp  \\\n",
      "368                            4249.7                               3276.39   \n",
      "371                            4130.2                               3275.75   \n",
      "373                            5027.3                               4192.56   \n",
      "376                            3540.3                               2753.61   \n",
      "377                            4032.9                               3071.55   \n",
      "\n",
      "     peak_takeoff_force_[n]_mean_pp  peak_eccentric_force_[n]_mean_pp  \\\n",
      "368                     1146.570889                        879.378317   \n",
      "371                     1146.570889                        879.378317   \n",
      "373                     1146.570889                        879.378317   \n",
      "376                     1146.570889                        879.378317   \n",
      "377                     1146.570889                        879.378317   \n",
      "\n",
      "     peak_takeoff_force_asymmetry_[%_l,r]_mean_pp  \\\n",
      "368                                       -1.6725   \n",
      "371                                       -1.6725   \n",
      "373                                       -1.6725   \n",
      "376                                       -1.6725   \n",
      "377                                       -1.6725   \n",
      "\n",
      "     peak_eccentric_force_asymmetry_[%_l,r]_mean_pp  pitch_speed_mph  \\\n",
      "368                                       -1.133966             88.3   \n",
      "371                                       -1.133966             72.2   \n",
      "373                                       -1.133966             88.6   \n",
      "376                                       -1.133966             89.1   \n",
      "377                                       -1.133966             83.6   \n",
      "\n",
      "      test_date                           athlete_uid  \n",
      "368  2023-01-31  a6c4133b-f239-456e-82f9-c63b2920a041  \n",
      "371  2023-02-07  083a2f02-e6f6-4bae-adf9-7d5878087ed2  \n",
      "373  2023-02-09  7be14792-be47-4f6e-a605-c779d85cb0fe  \n",
      "376  2023-02-14  20f515de-14c1-4049-837b-e1eb39cc9f95  \n",
      "377  2023-02-14  7c834cf0-c07e-42c6-a45b-3f6f5dfcc927  \n",
      "(1052, 15)\n",
      "       peak_power_[w]_mean_cmj  peak_power_/_bm_[w/kg]_mean_cmj  \\\n",
      "count              1052.000000                      1052.000000   \n",
      "mean               4469.696984                        53.691902   \n",
      "std                1259.194381                         8.830209   \n",
      "min                1175.580000                        25.270000   \n",
      "25%                3656.967500                        47.862500   \n",
      "50%                4577.600000                        54.370000   \n",
      "75%                5352.032500                        59.975000   \n",
      "max                8401.510000                        80.980000   \n",
      "\n",
      "       concentric_peak_force_[n]_mean_cmj  eccentric_peak_force_[n]_mean_cmj  \\\n",
      "count                         1052.000000                        1052.000000   \n",
      "mean                          2051.969116                        2029.427301   \n",
      "std                            515.991327                         535.951799   \n",
      "min                            644.520000                         580.430000   \n",
      "25%                           1717.547500                        1678.355000   \n",
      "50%                           2104.315000                        2079.220000   \n",
      "75%                           2416.057500                        2400.197500   \n",
      "max                           3626.470000                        3632.720000   \n",
      "\n",
      "       peak_power_[w]_mean_sj  peak_power_/_bm_[w/kg]_mean_sj  \\\n",
      "count             1052.000000                     1052.000000   \n",
      "mean              4325.955020                       51.401966   \n",
      "std               1101.063418                        8.185866   \n",
      "min               1284.280000                       25.840000   \n",
      "25%               3643.270000                       46.027500   \n",
      "50%               4325.955020                       51.401966   \n",
      "75%               5090.662500                       56.952500   \n",
      "max               7867.980000                       80.450000   \n",
      "\n",
      "       peak_vertical_force_[n]_max_imtp  net_peak_vertical_force_[n]_max_imtp  \\\n",
      "count                       1052.000000                           1052.000000   \n",
      "mean                        3746.375269                           2897.991756   \n",
      "std                          658.851049                            596.293616   \n",
      "min                         1659.700000                           1077.600000   \n",
      "25%                         3354.050000                           2535.102500   \n",
      "50%                         3746.375269                           2897.991756   \n",
      "75%                         4119.422500                           3214.460000   \n",
      "max                         6173.290000                           5281.060000   \n",
      "\n",
      "       peak_takeoff_force_[n]_mean_pp  peak_eccentric_force_[n]_mean_pp  \\\n",
      "count                     1052.000000                       1052.000000   \n",
      "mean                      1146.570889                        879.378317   \n",
      "std                        156.256582                         78.399558   \n",
      "min                        501.690000                        501.690000   \n",
      "25%                       1146.570889                        879.378317   \n",
      "50%                       1146.570889                        879.378317   \n",
      "75%                       1146.570889                        879.378317   \n",
      "max                       2719.290000                       1517.210000   \n",
      "\n",
      "       peak_takeoff_force_asymmetry_[%_l,r]_mean_pp  \\\n",
      "count                                   1052.000000   \n",
      "mean                                      -1.672500   \n",
      "std                                        5.494897   \n",
      "min                                      -35.050000   \n",
      "25%                                       -1.672500   \n",
      "50%                                       -1.672500   \n",
      "75%                                       -1.672500   \n",
      "max                                       21.870000   \n",
      "\n",
      "       peak_eccentric_force_asymmetry_[%_l,r]_mean_pp  pitch_speed_mph  \n",
      "count                                     1052.000000      1052.000000  \n",
      "mean                                        -1.133966        78.702186  \n",
      "std                                          5.088322         9.427993  \n",
      "min                                        -27.250000        51.900000  \n",
      "25%                                         -1.133966        73.375000  \n",
      "50%                                         -1.133966        80.850000  \n",
      "75%                                         -1.133966        85.625000  \n",
      "max                                         20.030000        94.700000  \n"
     ]
    }
   ],
   "source": [
    "# Filtering for pitching and peak biomechanics metrics, as well as primary keys for the athletes\n",
    "cols = [col for col in data.columns if 'peak' in col.lower()]\n",
    "cols += ['pitch_speed_mph', 'test_date', 'athlete_uid']\n",
    "\n",
    "# Filter DataFrame for these columns (ignore missing columns)\n",
    "filtered_cols = [col for col in cols if col in data.columns]\n",
    "filtered_data = data[filtered_cols]\n",
    "\n",
    "# Remove outliers in pitch_speed_mph using the IQR method\n",
    "Q1 = filtered_data['pitch_speed_mph'].quantile(0.25)\n",
    "Q3 = filtered_data['pitch_speed_mph'].quantile(0.75)\n",
    "IQR = Q3 - Q1\n",
    "lower_bound = Q1 - 1.5 * IQR\n",
    "upper_bound = Q3 + 1.5 * IQR\n",
    "\n",
    "filtered_data = filtered_data[\n",
    "    (filtered_data['pitch_speed_mph'] >= lower_bound) &\n",
    "    (filtered_data['pitch_speed_mph'] <= upper_bound)\n",
    "]\n",
    "\n",
    "# Fill all nulls with mean value\n",
    "filtered_data = filtered_data.fillna(filtered_data.mean(numeric_only=True))\n",
    "\n",
    "\n",
    "print(filtered_data.head())\n",
    "print(filtered_data.shape)\n",
    "print(filtered_data.describe())"
   ]
  },
  {
   "cell_type": "code",
   "execution_count": null,
   "id": "6bbd6c11",
   "metadata": {},
   "outputs": [
    {
     "data": {
      "image/png": "[encoded data removed]",
      "text/plain": [
       "<Figure size 800x600 with 1 Axes>"
      ]
     },
     "metadata": {},
     "output_type": "display_data"
    }
   ],
   "source": [
    "plt.figure(figsize=(8, 6))\n",
    "plt.hist(filtered_data['pitch_speed_mph'], bins=30, color='skyblue', edgecolor='black')\n",
    "plt.xlabel(\"Pitch Speed (mph)\")\n",
    "plt.ylabel(\"Frequency\")\n",
    "plt.title(\"Histogram of Pitch Speed (mph)\")\n",
    "\n",
    "# Add a dashed red line for the mean\n",
    "mean_speed = filtered_data['pitch_speed_mph'].mean()\n",
    "plt.axvline(mean_speed, color='red', linestyle='dashed', linewidth=2, label=f\"Mean: {mean_speed:.2f}\")\n",
    "plt.legend()\n",
    "\n",
    "plt.show()"
   ]
  },
  {
   "cell_type": "markdown",
   "id": "137b1eee",
   "metadata": {},
   "source": [
    "### Step 3: Implement Machine Learning"
   ]
  },
  {
   "cell_type": "markdown",
   "id": "a6b9c5ea",
   "metadata": {},
   "source": [
    "#### Model 1: Classic Linear Regression"
   ]
  },
  {
   "cell_type": "code",
   "execution_count": 25,
   "id": "01508e43",
   "metadata": {},
   "outputs": [
    {
     "name": "stdout",
     "output_type": "stream",
     "text": [
      "Mean Squared Error: 29.09494578359615\n",
      "R^2 Score: 0.6665966209021092\n"
     ]
    }
   ],
   "source": [
    "from sklearn.model_selection import train_test_split\n",
    "from sklearn.linear_model import LinearRegression\n",
    "from sklearn.metrics import mean_squared_error, r2_score\n",
    "from sklearn.preprocessing import StandardScaler\n",
    "\n",
    "# Select only float columns except 'pitch_speed_mph'\n",
    "float_cols = filtered_data.select_dtypes(include='float').columns.tolist()\n",
    "if 'pitch_speed_mph' in float_cols:\n",
    "    float_cols.remove('pitch_speed_mph')\n",
    "\n",
    "X = filtered_data[float_cols]\n",
    "y = filtered_data['pitch_speed_mph']\n",
    "\n",
    "# Split data into train and test sets FIRST\n",
    "X_train, X_test, y_train, y_test = train_test_split(X, y, test_size=0.2, random_state=42)\n",
    "\n",
    "# Scale features using only the training data\n",
    "scaler = StandardScaler()\n",
    "X_train_scaled = scaler.fit_transform(X_train)\n",
    "X_test_scaled = scaler.transform(X_test)\n",
    "\n",
    "# Train a linear regression model\n",
    "model = LinearRegression()\n",
    "model.fit(X_train_scaled, y_train)\n",
    "\n",
    "# Predict on test set\n",
    "y_pred = model.predict(X_test_scaled)\n",
    "\n",
    "# Evaluate the model\n",
    "mse = mean_squared_error(y_test, y_pred)\n",
    "r2 = r2_score(y_test, y_pred)\n",
    "\n",
    "print(\"Mean Squared Error:\", mse)\n",
    "print(\"R^2 Score:\", r2)"
   ]
  },
  {
   "cell_type": "code",
   "execution_count": 26,
   "id": "db8bf48c",
   "metadata": {},
   "outputs": [
    {
     "data": {
      "image/png": "[encoded data removed]",
      "text/plain": [
       "<Figure size 800x600 with 1 Axes>"
      ]
     },
     "metadata": {},
     "output_type": "display_data"
    }
   ],
   "source": [
    "import matplotlib.pyplot as plt\n",
    "\n",
    "plt.figure(figsize=(8, 6))\n",
    "plt.scatter(y_test, y_pred, alpha=0.7)\n",
    "plt.xlabel(\"Actual Pitch Speed (mph)\")\n",
    "plt.ylabel(\"Predicted Pitch Speed (mph)\")\n",
    "plt.title(\"Actual vs. Predicted Pitch Speed\")\n",
    "plt.plot([y_test.min(), y_test.max()], [y_test.min(), y_test.max()], 'r--')  # 1:1 line\n",
    "plt.show()\n"
   ]
  },
  {
   "cell_type": "markdown",
   "id": "5a31d097",
   "metadata": {},
   "source": [
    "#### Model 2: Bayesian Regression"
   ]
  },
  {
   "cell_type": "code",
   "execution_count": 31,
   "id": "5d8d7aaf",
   "metadata": {},
   "outputs": [
    {
     "name": "stdout",
     "output_type": "stream",
     "text": [
      "Bayesian Ridge Mean Squared Error: 29.01929041658606\n",
      "Bayesian Ridge R^2 Score: 0.6674635671819087\n"
     ]
    },
    {
     "data": {
      "text/plain": [
       "[<matplotlib.lines.Line2D at 0x167c9ac10>]"
      ]
     },
     "execution_count": 31,
     "metadata": {},
     "output_type": "execute_result"
    },
    {
     "data": {
      "image/png": "[encoded data removed]",
      "text/plain": [
       "<Figure size 800x600 with 1 Axes>"
      ]
     },
     "metadata": {},
     "output_type": "display_data"
    }
   ],
   "source": [
    "from sklearn.linear_model import BayesianRidge\n",
    "\n",
    "# Train a Bayesian Ridge Regression model\n",
    "bayes_model = BayesianRidge()\n",
    "bayes_model.fit(X_train_scaled, y_train)\n",
    "\n",
    "# Predict on test set\n",
    "y_pred_bayes = bayes_model.predict(X_test_scaled)\n",
    "\n",
    "# Evaluate the Bayesian Ridge model\n",
    "mse_bayes = mean_squared_error(y_test, y_pred_bayes)\n",
    "r2_bayes = r2_score(y_test, y_pred_bayes)\n",
    "\n",
    "print(\"Bayesian Ridge Mean Squared Error:\", mse_bayes)\n",
    "print(\"Bayesian Ridge R^2 Score:\", r2_bayes)\n",
    "\n",
    "# Visualize predictions\n",
    "import matplotlib.pyplot as plt\n",
    "\n",
    "plt.figure(figsize=(8, 6))\n",
    "plt.scatter(y_test, y_pred_bayes, alpha=0.7, color='purple')\n",
    "plt.xlabel(\"Actual Pitch Speed (mph)\")\n",
    "plt.ylabel(\"Predicted Pitch Speed (mph)\")\n",
    "plt.title(\"Bayesian Ridge: Actual vs. Predicted Pitch Speed\")\n",
    "plt.plot([y_test.min(), y_test.max()], [y_test.min(), y_test.max()], 'r--', label='1:1 line')"
   ]
  },
  {
   "cell_type": "markdown",
   "id": "11f07eb1",
   "metadata": {},
   "source": [
    "#### Model 3: Random Forest Regressor"
   ]
  },
  {
   "cell_type": "code",
   "execution_count": 27,
   "id": "c3e2cb78",
   "metadata": {},
   "outputs": [
    {
     "name": "stdout",
     "output_type": "stream",
     "text": [
      "Random Forest Mean Squared Error: 27.06806848815167\n",
      "Random Forest R^2 Score: 0.689822914030278\n"
     ]
    }
   ],
   "source": [
    "from sklearn.ensemble import RandomForestRegressor\n",
    "\n",
    "# Train a Random Forest Regressor\n",
    "rf_model = RandomForestRegressor(n_estimators=100, random_state=42)\n",
    "rf_model.fit(X_train_scaled, y_train)\n",
    "\n",
    "# Predict on test set\n",
    "y_pred_rf = rf_model.predict(X_test_scaled)\n",
    "\n",
    "# Evaluate the Random Forest model\n",
    "mse_rf = mean_squared_error(y_test, y_pred_rf)\n",
    "r2_rf = r2_score(y_test, y_pred_rf)\n",
    "\n",
    "print(\"Random Forest Mean Squared Error:\", mse_rf)\n",
    "print(\"Random Forest R^2 Score:\", r2_rf)"
   ]
  },
  {
   "cell_type": "code",
   "execution_count": 30,
   "id": "6ca07f5b",
   "metadata": {},
   "outputs": [
    {
     "data": {
      "image/png": "[encoded data removed]",
      "text/plain": [
       "<Figure size 800x600 with 1 Axes>"
      ]
     },
     "metadata": {},
     "output_type": "display_data"
    }
   ],
   "source": [
    "import matplotlib.pyplot as plt\n",
    "\n",
    "plt.figure(figsize=(8, 6))\n",
    "plt.scatter(y_test, y_pred_rf, alpha=0.7, color='green')\n",
    "plt.xlabel(\"Actual Pitch Speed (mph)\")\n",
    "plt.ylabel(\"Predicted Pitch Speed (mph)\")\n",
    "plt.title(\"Random Forest: Actual vs. Predicted Pitch Speed\")\n",
    "plt.plot([y_test.min(), y_test.max()], [y_test.min(), y_test.max()], 'r--', label='1:1 line')\n",
    "plt.legend()\n",
    "plt.show()"
   ]
  },
  {
   "cell_type": "markdown",
   "id": "6f6d139a",
   "metadata": {},
   "source": [
    "### Model Comparison"
   ]
  },
  {
   "cell_type": "code",
   "execution_count": 35,
   "id": "2cb8ea74",
   "metadata": {},
   "outputs": [
    {
     "name": "stdout",
     "output_type": "stream",
     "text": [
      "               Model  Mean Squared Error  R^2 Score\n",
      "0  Linear Regression           29.094946   0.666597\n",
      "1     Bayesian Ridge           29.019290   0.667464\n",
      "2      Random Forest           27.068068   0.689823\n"
     ]
    }
   ],
   "source": [
    "results_df = pd.DataFrame({\n",
    "    'Model': ['Linear Regression', 'Bayesian Ridge', 'Random Forest'],\n",
    "    'Mean Squared Error': [mse, mse_bayes, mse_rf],\n",
    "    'R^2 Score': [r2, r2_bayes, r2_rf]\n",
    "})\n",
    "\n",
    "print(results_df)"
   ]
  },
  {
   "cell_type": "code",
   "execution_count": null,
   "id": "e1e94d13",
   "metadata": {},
   "outputs": [
    {
     "data": {
      "image/png": "[encoded data removed]",
      "text/plain": [
       "<Figure size 800x600 with 1 Axes>"
      ]
     },
     "metadata": {},
     "output_type": "display_data"
    }
   ],
   "source": [
    "plt.figure(figsize=(8, 6))\n",
    "plt.scatter(y_test, y_pred, alpha=0.6, label='Linear Regression', color='blue')\n",
    "plt.scatter(y_test, y_pred_bayes, alpha=0.6, label='Bayesian Ridge', color='purple')\n",
    "plt.scatter(y_test, y_pred_rf, alpha=0.6, label='Random Forest', color='green')\n",
    "plt.plot([y_test.min(), y_test.max()], [y_test.min(), y_test.max()], 'r--', label='1:1 Line')\n",
    "plt.xlabel(\"Actual Pitch Speed (mph)\")\n",
    "plt.ylabel(\"Predicted Pitch Speed (mph)\")\n",
    "plt.title(\"Actual vs. Predicted Pitch Speed: Model Comparison\")\n",
    "plt.legend()\n",
    "plt.show()"
   ]
  },
  {
   "cell_type": "markdown",
   "id": "103781e5",
   "metadata": {},
   "source": [
    "### Summary:\n",
    "\n",
    "Based on the results dataframe, all three models—Linear Regression, Bayesian Ridge, and Random Forest—demonstrate similar performance in predicting pitch velocity. The Random Forest model achieves the lowest mean squared error (27.07) and the highest R² score (0.69), indicating it explains slightly more variance and makes more accurate predictions than the linear models. Both Linear Regression and Bayesian Ridge perform nearly identically, with mean squared errors around 29.1 and R² scores around 0.67. Overall, while all models perform reasonably well, the Random Forest regressor provides the best predictive accuracy for pitch velocity in this dataset. However, since all models perform similarly, I would recommend the simpilest model for cost efficiency, which would be classical linear regression."
   ]
  }
 ],
 "metadata": {
  "kernelspec": {
   "display_name": ".venv",
   "language": "python",
   "name": "python3"
  },
  "language_info": {
   "codemirror_mode": {
    "name": "ipython",
    "version": 3
   },
   "file_extension": ".py",
   "mimetype": "text/x-python",
   "name": "python",
   "nbconvert_exporter": "python",
   "pygments_lexer": "ipython3",
   "version": "3.13.1"
  }
 },
 "nbformat": 4,
 "nbformat_minor": 5
}
